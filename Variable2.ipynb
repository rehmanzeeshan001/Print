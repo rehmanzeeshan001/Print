{
  "nbformat": 4,
  "nbformat_minor": 0,
  "metadata": {
    "colab": {
      "name": "Variable2.ipynb",
      "provenance": [],
      "collapsed_sections": [],
      "include_colab_link": true
    },
    "kernelspec": {
      "name": "python3",
      "display_name": "Python 3"
    }
  },
  "cells": [
    {
      "cell_type": "markdown",
      "metadata": {
        "id": "view-in-github",
        "colab_type": "text"
      },
      "source": [
        "<a href=\"https://colab.research.google.com/github/rehmanzeeshan001/Print/blob/master/Variable2.ipynb\" target=\"_parent\"><img src=\"https://colab.research.google.com/assets/colab-badge.svg\" alt=\"Open In Colab\"/></a>"
      ]
    },
    {
      "cell_type": "code",
      "metadata": {
        "id": "1GAzbuYBBCDM",
        "colab_type": "code",
        "colab": {
          "base_uri": "https://localhost:8080/",
          "height": 119
        },
        "outputId": "865423bd-de3f-47ec-ed15-3bf30b123d8f"
      },
      "source": [
        "a=10\n",
        "print(a)\n",
        "a=5\n",
        "city=\"Karachi\"\n",
        "print(city)\n",
        "student_name=\"Zeeshan\"\n",
        "student_father=\"Rehman\"\n",
        "print(student_name + student_father)\n",
        "num1=100\n",
        "num2=100\n",
        "sum=num1+num2\n",
        "print(sum)\n",
        "print(100+100/200-2+3000)\n",
        "a=100\n",
        "b=1000\n",
        "c=b/a\n",
        "print(c)\n"
      ],
      "execution_count": 33,
      "outputs": [
        {
          "output_type": "stream",
          "text": [
            "10\n",
            "Karachi\n",
            "ZeeshanRehman\n",
            "200\n",
            "3098.5\n",
            "10.0\n"
          ],
          "name": "stdout"
        }
      ]
    }
  ]
}