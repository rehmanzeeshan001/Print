{
  "nbformat": 4,
  "nbformat_minor": 0,
  "metadata": {
    "colab": {
      "name": "Variable2.ipynb",
      "provenance": [],
      "collapsed_sections": [],
      "include_colab_link": true
    },
    "kernelspec": {
      "name": "python3",
      "display_name": "Python 3"
    }
  },
  "cells": [
    {
      "cell_type": "markdown",
      "metadata": {
        "id": "view-in-github",
        "colab_type": "text"
      },
      "source": [
        "<a href=\"https://colab.research.google.com/github/rehmanzeeshan001/Print/blob/master/Variable2.ipynb\" target=\"_parent\"><img src=\"https://colab.research.google.com/assets/colab-badge.svg\" alt=\"Open In Colab\"/></a>"
      ]
    },
    {
      "cell_type": "code",
      "metadata": {
        "id": "1GAzbuYBBCDM",
        "colab_type": "code",
        "colab": {
          "base_uri": "https://localhost:8080/",
          "height": 85
        },
        "outputId": "f9e26b96-9443-469f-af5b-44d642d122c9"
      },
      "source": [
        "a=10\n",
        "print(a)\n",
        "a=5\n",
        "city=\"Karachi\"\n",
        "print(city)\n",
        "student_name=\"Zeeshan\"\n",
        "student_father=\"Rehman\"\n",
        "print(student_name + student_father)\n",
        "num1=100\n",
        "num2=100\n",
        "sum=num1+num2\n",
        "print(sum)\n"
      ],
      "execution_count": 24,
      "outputs": [
        {
          "output_type": "stream",
          "text": [
            "10\n",
            "Karachi\n",
            "ZeeshanRehman\n",
            "200\n"
          ],
          "name": "stdout"
        }
      ]
    }
  ]
}